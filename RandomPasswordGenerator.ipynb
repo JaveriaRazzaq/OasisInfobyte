{
 "cells": [
  {
   "cell_type": "markdown",
   "id": "902896f7-0e88-4c9d-9ea2-5bd93eb44c22",
   "metadata": {},
   "source": [
    "## Basic Level Random Password Generator"
   ]
  },
  {
   "cell_type": "code",
   "execution_count": 1,
   "id": "b515fbb3-c54d-4a51-bb39-7d3d7324c8f5",
   "metadata": {},
   "outputs": [
    {
     "name": "stdin",
     "output_type": "stream",
     "text": [
      "Enter the desired password length:  4\n",
      "Include letters? (y/n):  y\n",
      "Include digits? (y/n):  y\n",
      "Include symbols? (y/n):  n\n"
     ]
    },
    {
     "name": "stdout",
     "output_type": "stream",
     "text": [
      "Generated Password: BTHH\n"
     ]
    }
   ],
   "source": [
    "import random\n",
    "import string\n",
    "\n",
    "def generate_password(length, use_letters=True, use_digits=True, use_symbols=True):\n",
    "    \"\"\"Generates a random password based on specified criteria.\"\"\"\n",
    "    \n",
    "    # Define the character sets\n",
    "    letters = string.ascii_letters if use_letters else ''\n",
    "    digits = string.digits if use_digits else ''\n",
    "    symbols = string.punctuation if use_symbols else ''\n",
    "    \n",
    "    # Combine the character sets\n",
    "    all_characters = letters + digits + symbols\n",
    "    \n",
    "    if not all_characters:\n",
    "        raise ValueError(\"At least one character set must be enabled.\")\n",
    "    \n",
    "    # Generate the password\n",
    "    password = ''.join(random.choice(all_characters) for _ in range(length))\n",
    "    \n",
    "    return password\n",
    "\n",
    "# Get user input\n",
    "def get_user_input():\n",
    "    \"\"\"Collects user input for password generation.\"\"\"\n",
    "    try:\n",
    "        length = int(input(\"Enter the desired password length: \"))\n",
    "        use_letters = input(\"Include letters? (y/n): \").lower() == 'y'\n",
    "        use_digits = input(\"Include digits? (y/n): \").lower() == 'y'\n",
    "        use_symbols = input(\"Include symbols? (y/n): \").lower() == 'y'\n",
    "        \n",
    "        if length <= 0:\n",
    "            raise ValueError(\"Password length must be positive.\")\n",
    "        \n",
    "        password = generate_password(length, use_letters, use_digits, use_symbols)\n",
    "        print(\"Generated Password:\", password)\n",
    "    except ValueError as e:\n",
    "        print(\"Invalid input:\", e)\n",
    "\n",
    "# Run the command-line interface\n",
    "get_user_input()\n"
   ]
  },
  {
   "cell_type": "markdown",
   "id": "d996d5df-a71b-40c3-9c12-a41d4d9a7c7f",
   "metadata": {},
   "source": [
    "## Advanced Level Random Password Generator"
   ]
  },
  {
   "cell_type": "code",
   "execution_count": null,
   "id": "ec80014b-8f4c-4db3-836f-9bbbd18b7855",
   "metadata": {},
   "outputs": [],
   "source": [
    "import tkinter as tk\n",
    "from tkinter import messagebox\n",
    "import random\n",
    "import string\n",
    "\n",
    "def generate_password(length, use_letters, use_digits, use_symbols):\n",
    "    \"\"\"Generates a random password based on specified criteria.\"\"\"\n",
    "    \n",
    "    # Define the character sets\n",
    "    letters = string.ascii_letters if use_letters else ''\n",
    "    digits = string.digits if use_digits else ''\n",
    "    symbols = string.punctuation if use_symbols else ''\n",
    "    \n",
    "    # Combine the character sets\n",
    "    all_characters = letters + digits + symbols\n",
    "    \n",
    "    if not all_characters:\n",
    "        raise ValueError(\"At least one character set must be enabled.\")\n",
    "    \n",
    "    # Generate the password\n",
    "    password = ''.join(random.choice(all_characters) for _ in range(length))\n",
    "    \n",
    "    return password\n",
    "\n",
    "def generate_and_display_password():\n",
    "    \"\"\"Generates and displays the password in the GUI.\"\"\"\n",
    "    try:\n",
    "        length = int(length_entry.get())\n",
    "        use_letters = letters_var.get()\n",
    "        use_digits = digits_var.get()\n",
    "        use_symbols = symbols_var.get()\n",
    "        \n",
    "        if length <= 0:\n",
    "            raise ValueError(\"Password length must be positive.\")\n",
    "        \n",
    "        password = generate_password(length, use_letters, use_digits, use_symbols)\n",
    "        result_var.set(password)\n",
    "    except ValueError as e:\n",
    "        messagebox.showerror(\"Error\", str(e))\n",
    "\n",
    "def copy_to_clipboard():\n",
    "    \"\"\"Copies the generated password to the clipboard.\"\"\"\n",
    "    root.clipboard_clear()\n",
    "    root.clipboard_append(result_var.get())\n",
    "    root.update()  # Keeps the clipboard data\n",
    "\n",
    "# Create the GUI window\n",
    "root = tk.Tk()\n",
    "root.title(\"Password Generator\")\n",
    "\n",
    "# Create and place widgets\n",
    "tk.Label(root, text=\"Password Length:\").grid(row=0, column=0, padx=10, pady=5)\n",
    "length_entry = tk.Entry(root)\n",
    "length_entry.grid(row=0, column=1, padx=10, pady=5)\n",
    "\n",
    "letters_var = tk.BooleanVar(value=True)\n",
    "tk.Checkbutton(root, text=\"Include Letters\", variable=letters_var).grid(row=1, column=0, columnspan=2, padx=10, pady=5)\n",
    "\n",
    "digits_var = tk.BooleanVar(value=True)\n",
    "tk.Checkbutton(root, text=\"Include Digits\", variable=digits_var).grid(row=2, column=0, columnspan=2, padx=10, pady=5)\n",
    "\n",
    "symbols_var = tk.BooleanVar(value=True)\n",
    "tk.Checkbutton(root, text=\"Include Symbols\", variable=symbols_var).grid(row=3, column=0, columnspan=2, padx=10, pady=5)\n",
    "\n",
    "tk.Button(root, text=\"Generate Password\", command=generate_and_display_password).grid(row=4, column=0, columnspan=2, padx=10, pady=5)\n",
    "\n",
    "tk.Button(root, text=\"Copy to Clipboard\", command=copy_to_clipboard).grid(row=5, column=0, columnspan=2, padx=10, pady=5)\n",
    "\n",
    "result_var = tk.StringVar()\n",
    "tk.Entry(root, textvariable=result_var, state=\"readonly\", width=50).grid(row=6, column=0, columnspan=2, padx=10, pady=5)\n",
    "\n",
    "# Run the GUI event loop\n",
    "root.mainloop()\n"
   ]
  },
  {
   "cell_type": "code",
   "execution_count": null,
   "id": "64990c90-decb-45d8-91c2-6fd071e603cd",
   "metadata": {},
   "outputs": [],
   "source": [
    "+@?~Z/|I"
   ]
  }
 ],
 "metadata": {
  "kernelspec": {
   "display_name": "Python 3 (ipykernel)",
   "language": "python",
   "name": "python3"
  },
  "language_info": {
   "codemirror_mode": {
    "name": "ipython",
    "version": 3
   },
   "file_extension": ".py",
   "mimetype": "text/x-python",
   "name": "python",
   "nbconvert_exporter": "python",
   "pygments_lexer": "ipython3",
   "version": "3.12.4"
  }
 },
 "nbformat": 4,
 "nbformat_minor": 5
}
