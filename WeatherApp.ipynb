{
 "cells": [
  {
   "cell_type": "markdown",
   "id": "8ed81b86-afb0-4f4d-85b6-c1310a4a7894",
   "metadata": {},
   "source": [
    "### Basic Level Weather App"
   ]
  },
  {
   "cell_type": "code",
   "execution_count": 1,
   "id": "b42e7973-442f-4a54-925e-24dd50766e57",
   "metadata": {},
   "outputs": [
    {
     "name": "stdout",
     "output_type": "stream",
     "text": [
      "Defaulting to user installation because normal site-packages is not writeableNote: you may need to restart the kernel to use updated packages.\n",
      "\n",
      "Requirement already satisfied: requests in e:\\anaconda\\lib\\site-packages (2.32.2)\n",
      "Requirement already satisfied: charset-normalizer<4,>=2 in e:\\anaconda\\lib\\site-packages (from requests) (2.0.4)\n",
      "Requirement already satisfied: idna<4,>=2.5 in e:\\anaconda\\lib\\site-packages (from requests) (3.7)\n",
      "Requirement already satisfied: urllib3<3,>=1.21.1 in e:\\anaconda\\lib\\site-packages (from requests) (2.2.2)\n",
      "Requirement already satisfied: certifi>=2017.4.17 in e:\\anaconda\\lib\\site-packages (from requests) (2024.6.2)\n"
     ]
    }
   ],
   "source": [
    "pip install requests"
   ]
  },
  {
   "cell_type": "code",
   "execution_count": 3,
   "id": "c848469c-3093-4a1b-9ff8-6e419432d05b",
   "metadata": {},
   "outputs": [
    {
     "name": "stdin",
     "output_type": "stream",
     "text": [
      "Enter city name:  Islamabad\n"
     ]
    },
    {
     "name": "stdout",
     "output_type": "stream",
     "text": [
      "Weather in Islamabad:\n",
      "Temperature: 28.24°C\n",
      "Humidity: 76%\n",
      "Condition: clear sky\n"
     ]
    }
   ],
   "source": [
    "import requests\n",
    "\n",
    "def get_weather(api_key, location):\n",
    "    url = f\"http://api.openweathermap.org/data/2.5/weather?q={location}&appid={api_key}&units=metric\"\n",
    "    response = requests.get(url)\n",
    "    data = response.json()\n",
    "    \n",
    "    if response.status_code == 200:\n",
    "        main = data['main']\n",
    "        weather = data['weather'][0]\n",
    "        print(f\"Weather in {location}:\")\n",
    "        print(f\"Temperature: {main['temp']}°C\")\n",
    "        print(f\"Humidity: {main['humidity']}%\")\n",
    "        print(f\"Condition: {weather['description']}\")\n",
    "    else:\n",
    "        print(f\"Error: {data.get('message', 'Unable to fetch weather data')}\")\n",
    "\n",
    "# Example usage\n",
    "api_key = '4f739190b63c5e53eff5f8e1a4532126'  \n",
    "location = input(\"Enter city name: \")\n",
    "get_weather(api_key, location)\n",
    "\n"
   ]
  },
  {
   "cell_type": "markdown",
   "id": "f65f13e4-b2ac-43b5-963b-386088711635",
   "metadata": {},
   "source": [
    "### Advanced Level Weather APP"
   ]
  },
  {
   "cell_type": "code",
   "execution_count": 2,
   "id": "d2b6d029-dc29-4f14-b7d3-1f031ad1e857",
   "metadata": {},
   "outputs": [
    {
     "name": "stdout",
     "output_type": "stream",
     "text": [
      "Defaulting to user installation because normal site-packages is not writeable\n",
      "Requirement already satisfied: requests in e:\\anaconda\\lib\\site-packages (2.32.2)\n",
      "Requirement already satisfied: pillow in e:\\anaconda\\lib\\site-packages (10.3.0)\n",
      "Requirement already satisfied: charset-normalizer<4,>=2 in e:\\anaconda\\lib\\site-packages (from requests) (2.0.4)\n",
      "Requirement already satisfied: idna<4,>=2.5 in e:\\anaconda\\lib\\site-packages (from requests) (3.7)\n",
      "Requirement already satisfied: urllib3<3,>=1.21.1 in e:\\anaconda\\lib\\site-packages (from requests) (2.2.2)\n",
      "Requirement already satisfied: certifi>=2017.4.17 in e:\\anaconda\\lib\\site-packages (from requests) (2024.6.2)\n",
      "Note: you may need to restart the kernel to use updated packages.\n"
     ]
    }
   ],
   "source": [
    "pip install requests pillow"
   ]
  },
  {
   "cell_type": "code",
   "execution_count": null,
   "id": "3ef78cbd-e467-4cc6-bf78-3c412cab4c09",
   "metadata": {},
   "outputs": [],
   "source": [
    "import tkinter as tk\n",
    "from tkinter import ttk\n",
    "import requests\n",
    "from PIL import Image, ImageTk\n",
    "from io import BytesIO\n",
    "\n",
    "class WeatherApp:\n",
    "    def __init__(self, root):\n",
    "        self.root = root\n",
    "        self.root.title(\"Weather App\")\n",
    "        \n",
    "        self.api_key = '4f739190b63c5e53eff5f8e1a4532126'\n",
    "        \n",
    "        #UI components\n",
    "        self.create_widgets()\n",
    "    \n",
    "    def create_widgets(self):\n",
    "        self.location_label = tk.Label(self.root, text=\"Enter city name:\")\n",
    "        self.location_label.pack(pady=5)\n",
    "        \n",
    "        self.location_entry = tk.Entry(self.root)\n",
    "        self.location_entry.pack(pady=5)\n",
    "        \n",
    "        self.get_weather_button = tk.Button(self.root, text=\"Get Weather\", command=self.get_weather)\n",
    "        self.get_weather_button.pack(pady=5)\n",
    "        \n",
    "        self.weather_info = tk.Label(self.root, text=\"\", font=(\"Helvetica\", 12))\n",
    "        self.weather_info.pack(pady=5)\n",
    "        \n",
    "        self.weather_icon = tk.Label(self.root)\n",
    "        self.weather_icon.pack(pady=5)\n",
    "    \n",
    "    def get_weather(self):\n",
    "        location = self.location_entry.get()\n",
    "        url = f\"http://api.openweathermap.org/data/2.5/weather?q={location}&appid={self.api_key}&units=metric\"\n",
    "        response = requests.get(url)\n",
    "        data = response.json()\n",
    "        \n",
    "        if response.status_code == 200:\n",
    "            main = data['main']\n",
    "            weather = data['weather'][0]\n",
    "            \n",
    "            icon_url = f\"http://openweathermap.org/img/wn/{weather['icon']}.png\"\n",
    "            icon_response = requests.get(icon_url)\n",
    "            icon_img = Image.open(BytesIO(icon_response.content))\n",
    "            icon_img = icon_img.resize((100, 100))\n",
    "            self.weather_icon.img = ImageTk.PhotoImage(icon_img)\n",
    "            self.weather_icon.config(image=self.weather_icon.img)\n",
    "            \n",
    "            weather_text = (f\"Temperature: {main['temp']}°C\\n\"\n",
    "                            f\"Humidity: {main['humidity']}%\\n\"\n",
    "                            f\"Condition: {weather['description'].capitalize()}\")\n",
    "            self.weather_info.config(text=weather_text)\n",
    "        else:\n",
    "            self.weather_info.config(text=f\"Error: {data.get('message', 'Unable to fetch weather data')}\")\n",
    "\n",
    "# Example usage\n",
    "root = tk.Tk()\n",
    "app = WeatherApp(root)\n",
    "root.mainloop()\n"
   ]
  },
  {
   "cell_type": "code",
   "execution_count": null,
   "id": "4e9f1624-e92e-41c9-aa24-700deaba373c",
   "metadata": {},
   "outputs": [],
   "source": []
  }
 ],
 "metadata": {
  "kernelspec": {
   "display_name": "Python 3 (ipykernel)",
   "language": "python",
   "name": "python3"
  },
  "language_info": {
   "codemirror_mode": {
    "name": "ipython",
    "version": 3
   },
   "file_extension": ".py",
   "mimetype": "text/x-python",
   "name": "python",
   "nbconvert_exporter": "python",
   "pygments_lexer": "ipython3",
   "version": "3.12.4"
  }
 },
 "nbformat": 4,
 "nbformat_minor": 5
}
